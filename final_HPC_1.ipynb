{
  "nbformat": 4,
  "nbformat_minor": 0,
  "metadata": {
    "colab": {
      "name": "final_HPC_1",
      "provenance": [],
      "authorship_tag": "ABX9TyN9hnh6WVlFVkWtIY5ecVmM",
      "include_colab_link": true
    },
    "kernelspec": {
      "name": "python3",
      "display_name": "Python 3"
    },
    "accelerator": "GPU"
  },
  "cells": [
    {
      "cell_type": "markdown",
      "metadata": {
        "id": "view-in-github",
        "colab_type": "text"
      },
      "source": [
        "<a href=\"https://colab.research.google.com/github/kaditi14/LP-I-/blob/main/final_HPC_1.ipynb\" target=\"_parent\"><img src=\"https://colab.research.google.com/assets/colab-badge.svg\" alt=\"Open In Colab\"/></a>"
      ]
    },
    {
      "cell_type": "code",
      "metadata": {
        "colab": {
          "base_uri": "https://localhost:8080/"
        },
        "id": "RXj9_o-ZPLFj",
        "outputId": "e00a74b6-ec34-4c2b-99ed-8c9b3f482d72"
      },
      "source": [
        "!pip install git+git://github.com/andreinechaev/nvcc4jupyter.git\n",
        "#installing nvcc jupyter extension"
      ],
      "execution_count": null,
      "outputs": [
        {
          "output_type": "stream",
          "text": [
            "Collecting git+git://github.com/andreinechaev/nvcc4jupyter.git\n",
            "  Cloning git://github.com/andreinechaev/nvcc4jupyter.git to /tmp/pip-req-build-xbq4jusp\n",
            "  Running command git clone -q git://github.com/andreinechaev/nvcc4jupyter.git /tmp/pip-req-build-xbq4jusp\n",
            "Building wheels for collected packages: NVCCPlugin\n",
            "  Building wheel for NVCCPlugin (setup.py) ... \u001b[?25l\u001b[?25hdone\n",
            "  Created wheel for NVCCPlugin: filename=NVCCPlugin-0.0.2-cp36-none-any.whl size=4307 sha256=53b82eed1e32a5fcf278861bfb792ce1a64842ce8518a73e6943c9accf40ca6e\n",
            "  Stored in directory: /tmp/pip-ephem-wheel-cache-evat3tq9/wheels/10/c2/05/ca241da37bff77d60d31a9174f988109c61ba989e4d4650516\n",
            "Successfully built NVCCPlugin\n",
            "Installing collected packages: NVCCPlugin\n",
            "Successfully installed NVCCPlugin-0.0.2\n"
          ],
          "name": "stdout"
        }
      ]
    },
    {
      "cell_type": "code",
      "metadata": {
        "colab": {
          "base_uri": "https://localhost:8080/"
        },
        "id": "njR-3UdZQTj6",
        "outputId": "6f2aa8b9-2a63-4bec-c62c-26e926dd68ce"
      },
      "source": [
        "#load extension into environment\n",
        "%load_ext nvcc_plugin"
      ],
      "execution_count": null,
      "outputs": [
        {
          "output_type": "stream",
          "text": [
            "created output directory at /content/src\n",
            "Out bin /content/result.out\n"
          ],
          "name": "stdout"
        }
      ]
    },
    {
      "cell_type": "code",
      "metadata": {
        "id": "JryaQ3FKwqJa",
        "colab": {
          "base_uri": "https://localhost:8080/"
        },
        "outputId": "5b504215-bc71-49f2-d0c1-ee21af187e44"
      },
      "source": [
        "%%cu\n",
        "\n",
        "#include<iostream>\n",
        "#include<cstdio>\n",
        "#include<cstdlib>\n",
        "#include<cuda_runtime.h>\n",
        "#include<iomanip>\n",
        "using namespace std;\n",
        "\n",
        "__global__ void minimum(int *input) {\n",
        "    int tid = threadIdx.x;\n",
        "    int step_size = 1;\n",
        "    int number_of_threads = blockDim.x;\n",
        "    while(number_of_threads>0) {\n",
        "        if(tid < number_of_threads) {\n",
        "            int first = tid*step_size*2;\n",
        "            int second = first + step_size;\n",
        "            if(input[second] < input[first])\n",
        "              input[first] = input[second];\n",
        "        }\n",
        "        step_size <<= 1;\n",
        "        number_of_threads >>= 1;\n",
        "    }\n",
        "}\n",
        "\n",
        "__global__ void maximum(int *input) {\n",
        "    int tid = threadIdx.x;\n",
        "    int step_size = 1;\n",
        "    int number_of_threads = blockDim.x;\n",
        "    \n",
        "    while(number_of_threads>0) {\n",
        "        if(tid < number_of_threads) {\n",
        "            int first = tid*step_size*2;\n",
        "            int second = first + step_size;\n",
        "            if(input[second] > input[first])\n",
        "              input[first] = input[second];\n",
        "        }\n",
        "        step_size <<= 1;\n",
        "        number_of_threads >>= 1;\n",
        "    }\n",
        "}\n",
        "\n",
        "__global__ void sum(int *input) {\n",
        "    const int tid = threadIdx.x;\n",
        "    int step_size = 1;\n",
        "    int number_of_threads = blockDim.x;\n",
        "    \n",
        "    while(number_of_threads > 0) {\n",
        "        if(tid < number_of_threads) {\n",
        "            int first = tid * step_size * 2;\n",
        "            int second = first + step_size;\n",
        "            \n",
        "            input[first] += input[second];\n",
        "        }\n",
        "        step_size <<= 1;\n",
        "        number_of_threads >>= 1;\n",
        "       \n",
        "    }\n",
        "}\n",
        "\n",
        "__global__ void mean_diff_sq(float *input, float mean) {\n",
        "    input[threadIdx.x] -= mean;\n",
        "    input[threadIdx.x] *= input[threadIdx.x];\n",
        "}\n",
        "\n",
        "__global__ void sum_floats(float *input) {\n",
        "    int tid = threadIdx.x;\n",
        "    int step_size = 1;\n",
        "    int number_of_threads = blockDim.x;\n",
        "    \n",
        "    while(number_of_threads > 0) {\n",
        "        if(tid < number_of_threads) {\n",
        "            int first = tid * step_size * 2;\n",
        "            int second = first + step_size;\n",
        "            \n",
        "            input[first] += input[second];\n",
        "        }\n",
        "        step_size <<= 1;\n",
        "        number_of_threads >>= 1;\n",
        "       \n",
        "    }\n",
        "}\n",
        "\n",
        "void copy_int_to_float(float *dest, int *src, int size){\n",
        "    for(int i=0; i<size; i++)\n",
        "        dest[i] = float(src[i]);\n",
        "}\n",
        "\n",
        "int main() {\n",
        "    int n=20;\n",
        "    srand(n);\n",
        "\t  int *arr=new int[n];\n",
        "    int min=20000;\n",
        "    //# Generate Input array using rand()\n",
        "\t  for(int i=0;i<n;i++)\n",
        "\t  {\n",
        "\t\t  arr[i]=rand()%20000;\n",
        "      if(arr[i]<min)\n",
        "        min=arr[i];\n",
        "      cout<<arr[i]<<\" \";\n",
        "\t  }\n",
        "    cout<<endl;\n",
        "    int size = n*sizeof(int); //calculate no. of bytes for array\n",
        "    int *arr_d, result;\n",
        "    \n",
        "    cudaMalloc((void **)&arr_d, size);\n",
        "    \n",
        "    //MIN\n",
        "    cudaMemcpy(arr_d, arr, size, cudaMemcpyHostToDevice);\n",
        "    \n",
        "    minimum<<<1,n/2>>>(arr_d);\n",
        "    \n",
        "    cudaMemcpy(&result, arr_d, sizeof(int), cudaMemcpyDeviceToHost);\n",
        "    \n",
        "    cout<<\"The minimum element is \"<<result<<endl;\n",
        "      \n",
        "       \n",
        "    //MAX\n",
        "    cudaMemcpy(arr_d, arr, size, cudaMemcpyHostToDevice);\n",
        "    \n",
        "    maximum<<<1,n/2>>>(arr_d);\n",
        "    \n",
        "    cudaMemcpy(&result, arr_d, sizeof(int), cudaMemcpyDeviceToHost);\n",
        "    \n",
        "    cout<<\"The maximum element is \"<<result<<endl;\n",
        "    \n",
        "    //SUM\n",
        "    cudaMemcpy(arr_d, arr, size, cudaMemcpyHostToDevice);\n",
        "    \n",
        "    sum<<<1,n/2>>>(arr_d);\n",
        "    \n",
        "    cudaMemcpy(&result, arr_d, sizeof(int), cudaMemcpyDeviceToHost);\n",
        "    \n",
        "    cout<<\"The sum is \"<<result<<endl;\n",
        "    \n",
        "    //AVERAGE\n",
        "    \n",
        "    float mean = float(result)/n;\n",
        "    cout<<\"The mean is \"<<mean<<endl;\n",
        "    \n",
        "    //STANDARD DEVIATION\n",
        "    float *arr_float;\n",
        "    float *arr_std, stdValue;\n",
        "    \n",
        "    arr_float = (float *)malloc(n*sizeof(float));\n",
        "    cudaMalloc((void **)&arr_std, n*sizeof(float));\n",
        "    \n",
        "    copy_int_to_float(arr_float, arr, n);\n",
        "    \n",
        "    cudaMemcpy(arr_std, arr_float, n*sizeof(float), cudaMemcpyHostToDevice);\n",
        "    \n",
        "    mean_diff_sq <<<1,n>>>(arr_std, mean);\n",
        "    sum_floats<<<1,n/2>>>(arr_std);\n",
        "    \n",
        "    cudaMemcpy(&stdValue, arr_std, sizeof(float), cudaMemcpyDeviceToHost);\n",
        "    \n",
        "    \n",
        "    stdValue = stdValue / n;\n",
        "    std::cout << std::fixed << std::setprecision(2)<<\"The variance is \"<< stdValue << std::endl;\n",
        "    stdValue = sqrt(stdValue);\n",
        "    \n",
        "    cout<<\"The standard deviation is \"<<stdValue<<endl;\n",
        "    \n",
        "    cudaFree(arr_d);\n",
        "           \n",
        "    return 0;\n",
        "}"
      ],
      "execution_count": null,
      "outputs": [
        {
          "output_type": "stream",
          "text": [
            "11911 14258 18497 13959 13496 8381 13262 16441 6440 12481 18350 5724 13847 18409 10744 17409 10765 15607 9379 13859 \n",
            "The minimum element is 5724\n",
            "The maximum element is 18497\n",
            "The sum is 213609\n",
            "The mean is 10680.5\n",
            "The variance is 17943516.00\n",
            "The standard deviation is 4235.98\n",
            "\n"
          ],
          "name": "stdout"
        }
      ]
    }
  ]
}
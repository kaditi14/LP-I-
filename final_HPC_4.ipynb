{
  "nbformat": 4,
  "nbformat_minor": 0,
  "metadata": {
    "colab": {
      "name": "final_HPC_4.ipynb",
      "provenance": [],
      "collapsed_sections": [],
      "include_colab_link": true
    },
    "kernelspec": {
      "name": "python3",
      "display_name": "Python 3"
    }
  },
  "cells": [
    {
      "cell_type": "markdown",
      "metadata": {
        "id": "view-in-github",
        "colab_type": "text"
      },
      "source": [
        "<a href=\"https://colab.research.google.com/github/kaditi14/LP-I-/blob/main/final_HPC_4.ipynb\" target=\"_parent\"><img src=\"https://colab.research.google.com/assets/colab-badge.svg\" alt=\"Open In Colab\"/></a>"
      ]
    },
    {
      "cell_type": "code",
      "metadata": {
        "id": "5dI4qQXPF-gq",
        "colab": {
          "base_uri": "https://localhost:8080/"
        },
        "outputId": "fdc45741-027b-4ee4-e522-b8a855a453df"
      },
      "source": [
        "l%%writefile binary.cpp\n",
        "#include<mpi.h>\n",
        "#include<iostream>\n",
        "using namespace std;\n",
        "\n",
        "int n = 12;\n",
        "int a[] = {1,2,3,4,7,9,13,24,55,56,67,88};\n",
        "int key = 55;\n",
        "\n",
        "//Temporary Array for Slave Process\n",
        "int buffer[20];\n",
        "\n",
        "int binarySearch(int *array, int start, int end, int value) {\n",
        "    int mid;\n",
        "    while(start <= end) {\n",
        "        mid = start + (end-start)/2;\n",
        "        if(array[mid] == value) \n",
        "            return mid;\n",
        "        else if(array[mid] > value)\n",
        "            end = mid - 1;\n",
        "        else\n",
        "            start = mid + 1;\n",
        "    }\n",
        "    return -1;\n",
        "}\n",
        "\n",
        "int main(int argc, char* argv[]) {\n",
        "    \n",
        "    int pid, np, elements_per_process, n_elements_received;\n",
        "    \n",
        "    MPI_Status status;\n",
        "    \n",
        "    //Initialize MPI Environment\n",
        "    MPI_Init(&argc, &argv);\n",
        "    \n",
        "    //To get rank of a process\n",
        "    MPI_Comm_rank(MPI_COMM_WORLD, &pid);\n",
        "    \n",
        "    //To get number of processes which are communicating\n",
        "    //MPI_COMM_WORLD is the default communicator\n",
        "    MPI_Comm_size(MPI_COMM_WORLD, &np);\n",
        "    \n",
        "    //Master Process\n",
        "    if(pid == 0) {\n",
        "        int index, i;\n",
        "\n",
        "        //Check if more than one process is running\n",
        "        if(np > 1) {\n",
        "            for(i=1; i<np-1; i++) {\n",
        "                \n",
        "                index = i * elements_per_process;\n",
        "\n",
        "                //Send the number of elements to the slave process\n",
        "                MPI_Send(&elements_per_process, 1, MPI_INT, i, 0, MPI_COMM_WORLD);\n",
        "\n",
        "                //Send the actual element to the slave process\n",
        "                MPI_Send(&a[index], elements_per_process, MPI_INT, i, 0, MPI_COMM_WORLD);\n",
        "            \n",
        "            }\n",
        "\n",
        "            \n",
        "            //For the last process\n",
        "            \n",
        "            index = i* elements_per_process;\n",
        "            int elements_left = n - index;\n",
        "\n",
        "            //Send the number of elements to the slave process\n",
        "            MPI_Send(&elements_left, 1, MPI_INT, i, 0, MPI_COMM_WORLD);\n",
        "\n",
        "            //Send the actual element to the slave process\n",
        "            MPI_Send(&a[index], elements_left, MPI_INT, i, 0, MPI_COMM_WORLD);\n",
        "        }\n",
        "        \n",
        "        //Master itself performs binary search\n",
        "        int position = binarySearch(a, 0, elements_per_process-1, key);\n",
        "        printf(\"Position by Process ID %d = %d \\n\",pid,position);\n",
        "        if(position != -1)\n",
        "            cout<<\"Found at: \"<<position<<\" by 0\";\n",
        "        \n",
        "        //Collect Partial Result (Search Index) from Slave Processes\n",
        "        int temp;\n",
        "        for(i=1; i<np; i++) {\n",
        "            \n",
        "            //Get Search Index from each Slave Process\n",
        "            MPI_Recv(&temp, 1, MPI_INT, MPI_ANY_SOURCE, 0, MPI_COMM_WORLD, &status);\n",
        "\n",
        "            //Process ID of the slave process\n",
        "            int sender = status.MPI_SOURCE;\n",
        "            \n",
        "            //Display search index if found\n",
        "            if(temp != -1)\n",
        "                cout<<\"Found at: \"<<((sender*elements_per_process)+temp)<<\" by \"<<sender;\n",
        "        }\n",
        "    }\n",
        "    \n",
        "    //Slave Process\n",
        "    else {\n",
        "        \n",
        "        //Recieve number of elements from master process\n",
        "        MPI_Recv(&n_elements_received, 1, MPI_INT, 0, 0, MPI_COMM_WORLD, &status);\n",
        "        \n",
        "        //Recieve the elements from master process\n",
        "        MPI_Recv(&buffer, n_elements_received, MPI_INT, 0, 0, MPI_COMM_WORLD, &status);\n",
        "    \n",
        "        //Calculate the partial index\n",
        "        int position = binarySearch(buffer, 0, n_elements_received-1, key);\n",
        "        printf(\"Position by Process ID %d = %d \\n\",pid,position);\n",
        "        \n",
        "        //Send the partial index back to the master process\n",
        "        MPI_Send(&position, 1, MPI_INT, 0, 0, MPI_COMM_WORLD);\n",
        "    }\n",
        "    \n",
        "    //Terminate MPI Environment\n",
        "    MPI_Finalize();\n",
        "    \n",
        "    return 0;\n",
        "}"
      ],
      "execution_count": null,
      "outputs": [
        {
          "output_type": "stream",
          "text": [
            "Writing binary.cpp\n"
          ],
          "name": "stdout"
        }
      ]
    },
    {
      "cell_type": "code",
      "metadata": {
        "id": "XSZza0IKEalC",
        "colab": {
          "base_uri": "https://localhost:8080/"
        },
        "outputId": "3a33ed4b-31f6-4372-fa59-cef7bacdcb10"
      },
      "source": [
        "!mpiCC binary.cpp\n",
        "!mpirun --allow-run-as-root -np 4 ./a.out"
      ],
      "execution_count": null,
      "outputs": [
        {
          "output_type": "stream",
          "text": [
            "Position by Process ID 0 = -1 \n",
            "Position by Process ID 1 = -1 \n",
            "Position by Process ID 3 = 8 \n",
            "Position by Process ID 2 = -1 \n",
            "Found at: 8 by 3"
          ],
          "name": "stdout"
        }
      ]
    },
    {
      "cell_type": "markdown",
      "metadata": {
        "id": "Z1zwQtRT5IBu"
      },
      "source": [
        "###Best First Search"
      ]
    },
    {
      "cell_type": "markdown",
      "metadata": {
        "id": "foE7F-6rFv5n"
      },
      "source": [
        "####Example Graph"
      ]
    },
    {
      "cell_type": "markdown",
      "metadata": {
        "id": "097zg3AuFzay"
      },
      "source": [
        "![BFS_graph.png](data:image/png;base64,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)"
      ]
    },
    {
      "cell_type": "markdown",
      "metadata": {
        "id": "O1WoYR8FFuTN"
      },
      "source": [
        "####Source Code"
      ]
    },
    {
      "cell_type": "code",
      "metadata": {
        "id": "K-gyffAJ_woA",
        "colab": {
          "base_uri": "https://localhost:8080/",
          "height": 34
        },
        "outputId": "261e354c-4384-4335-b233-2707a6a612f1"
      },
      "source": [
        "%%writefile bfs.cpp\n",
        "#include<bits/stdc++.h>\n",
        "#include \"omp.h\"\n",
        "\n",
        "#define n_nodes 7\n",
        "\n",
        "using namespace std;\n",
        "list<int>q;\n",
        "vector<int>weight(n_nodes,1000);\n",
        "bool visited[n_nodes];\n",
        "\n",
        "struct Comparator {\n",
        "    // Compare 2 Edges objects using weight\n",
        "    bool operator ()(const int &e1, const int &e2){\n",
        "        return weight[e1]<weight[e2];\n",
        "    }\n",
        "};\n",
        "\n",
        "//Display the list/priority queue - Debugging Function\n",
        "void showlist(list <int> g) { \n",
        "    list <int> :: iterator it; \n",
        "    for(it = g.begin(); it != g.end(); ++it) \n",
        "        cout<<*it<<\" \"; \n",
        "    cout<<endl; \n",
        "}\n",
        "\n",
        "//Display the vector/weights - Debugging Function\n",
        "void showvec(vector <int> g) { \n",
        "    vector <int> :: iterator it; \n",
        "    for(it = g.begin(); it != g.end(); ++it) \n",
        "        cout<<*it<<\" \"; \n",
        "    cout<<endl; \n",
        "}\n",
        "\n",
        "void bfs(int adj_matrix[n_nodes][n_nodes])\n",
        "{\n",
        "\t\tif(q.empty())\n",
        "\t\t\treturn;\n",
        "    q.sort(Comparator());\n",
        "\t\t\n",
        "\t\t//pop first element and display it\n",
        "\t\tint cur_node = q.front();\n",
        "    q.pop_front();\n",
        "\t\tprintf(\"%d, \", cur_node);\n",
        "\t\n",
        "\t\t//For every element in the row of the adjacency matrix\n",
        "\t\t#pragma omp parallel for shared(visited,q,weight)\n",
        "\t\tfor(int i=0; i<n_nodes; i++)\n",
        "\t\t{\n",
        "\t\t\t//If an unvisited Edge exists\n",
        "\t\t\tif(adj_matrix[cur_node][i]>0 && visited[i]==false)\n",
        "\t\t\t{\n",
        "\n",
        "\t\t\t\t//Replace the weight if it is larger\n",
        "        if(weight[i] > adj_matrix[cur_node][i]){\n",
        "            weight[i] = adj_matrix[cur_node][i];\n",
        "        }\n",
        "\n",
        "\t\t\t\t//Push the destination of the smallest edge onto the queue\n",
        "\t\t\t\tq.push_back(i);\n",
        "\t\t\t\tvisited[i]=true;\n",
        "\t\t\t}\n",
        "\t\t}\n",
        "\t\n",
        "\t//Call the function recursively\n",
        "\tbfs(adj_matrix);\n",
        "}\n",
        "\n",
        "int main(){\n",
        "\t\n",
        "\t//Get the maximum number of threads\n",
        "  int th = omp_get_max_threads();\n",
        "  cout<<\"Number of Threads = \"<<th<<endl;\n",
        "\n",
        "\t//Set the Adjacency Matrix\n",
        "\tint adj_matrix[n_nodes][n_nodes] = {\n",
        "\t\t\t\t\t\t\t{0\t,10  ,15  ,0  ,0  ,0  ,0},\n",
        "\t\t\t\t\t\t\t{10\t,0\t,25\t,25\t,0\t,0\t,0},\n",
        "\t\t\t\t\t\t\t{15\t,25\t,0\t,0\t,40\t,0\t,0},\n",
        "\t\t\t\t\t\t\t{0\t,25\t,0\t,0\t,20\t,0\t,0},\n",
        "\t\t\t\t\t\t\t{0\t,0\t,40\t,20\t,0\t,5\t,0},\n",
        "\t\t\t\t\t\t\t{0\t,0\t,0\t,0\t,5\t,0\t,20},\n",
        "\t\t\t\t\t\t\t{0\t,0\t,0\t,0\t,0\t,20\t,0}\n",
        "\t\t\t\t\t\t\t};\n",
        "\t\n",
        "\t//Initialize visited boolean array\n",
        "\tfor(int i=0; i<n_nodes; i++){\n",
        "\t\tvisited[i] = false;\n",
        "\t}\n",
        "\n",
        "\t//Set the start node\n",
        "\tint start_node = 3;\n",
        "\n",
        "\t//Set up the queue, weight and visited\n",
        "\tq.push_back(start_node);\n",
        "    weight[start_node] = 0;\n",
        "\tvisited[start_node] = true;\n",
        "\t\n",
        "\t//Best first Search\n",
        "\tbfs(adj_matrix);\n",
        "\n",
        "\treturn 0;\n",
        "}"
      ],
      "execution_count": null,
      "outputs": [
        {
          "output_type": "stream",
          "text": [
            "Overwriting bfs.cpp\n"
          ],
          "name": "stdout"
        }
      ]
    },
    {
      "cell_type": "code",
      "metadata": {
        "id": "wvzcgeIz_4Gg",
        "colab": {
          "base_uri": "https://localhost:8080/",
          "height": 51
        },
        "outputId": "1036319d-b40b-4ab3-81fe-0371d506b8d3"
      },
      "source": [
        "!g++ -fopenmp bfs.cpp\n",
        "!./a.out"
      ],
      "execution_count": null,
      "outputs": [
        {
          "output_type": "stream",
          "text": [
            "Number of Threads = 2\n",
            "3, 4, 5, 6, 1, 0, 2, "
          ],
          "name": "stdout"
        }
      ]
    },
    {
      "cell_type": "markdown",
      "metadata": {
        "id": "df9wiNQJYibA"
      },
      "source": [
        "##Modification"
      ]
    },
    {
      "cell_type": "markdown",
      "metadata": {
        "id": "dCf2sUsUedUw"
      },
      "source": [
        "###Graph with a clique"
      ]
    },
    {
      "cell_type": "markdown",
      "metadata": {
        "id": "mFIYkt33eheX"
      },
      "source": [
        "![BFS_graph (1).png](data:image/png;base64,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)"
      ]
    },
    {
      "cell_type": "markdown",
      "metadata": {
        "id": "09R_sc4BYqfW"
      },
      "source": [
        "####Source Code"
      ]
    },
    {
      "cell_type": "code",
      "metadata": {
        "id": "WowF4BxoYqfg",
        "colab": {
          "base_uri": "https://localhost:8080/",
          "height": 34
        },
        "outputId": "f93702ae-c595-4d23-9291-9215d871967d"
      },
      "source": [
        "%%writefile bfs.cpp\n",
        "#include<bits/stdc++.h>\n",
        "#include \"omp.h\"\n",
        "\n",
        "#define n_nodes 6\n",
        "\n",
        "using namespace std;\n",
        "list<int>q;\n",
        "vector<int>weight(n_nodes,1000);\n",
        "bool visited[n_nodes];\n",
        "\n",
        "struct Comparator {\n",
        "    // Compare 2 Edges objects using weight\n",
        "    bool operator ()(const int &e1, const int &e2){\n",
        "        return weight[e1]<weight[e2];\n",
        "    }\n",
        "};\n",
        "\n",
        "//Display the list/priority queue - Debugging Function\n",
        "void showlist(list <int> g) { \n",
        "    list <int> :: iterator it; \n",
        "    for(it = g.begin(); it != g.end(); ++it) \n",
        "        cout<<*it<<\" \"; \n",
        "    cout<<endl; \n",
        "}\n",
        "\n",
        "//Display the vector/weights - Debugging Function\n",
        "void showvec(vector <int> g) { \n",
        "    vector <int> :: iterator it; \n",
        "    for(it = g.begin(); it != g.end(); ++it) \n",
        "        cout<<*it<<\" \"; \n",
        "    cout<<endl; \n",
        "}\n",
        "\n",
        "void bfs(int adj_matrix[n_nodes][n_nodes])\n",
        "{\n",
        "\t\tif(q.empty())\n",
        "\t\t\treturn;\n",
        "    q.sort(Comparator());\n",
        "\t\t\n",
        "\t\t//pop first element and display it\n",
        "\t\tint cur_node = q.front();\n",
        "    q.pop_front();\n",
        "\t\tprintf(\"%d, \", cur_node);\n",
        "\t\n",
        "\t\t//For every element in the row of the adjacency matrix\n",
        "\t\t#pragma omp parallel for shared(visited,q,weight)\n",
        "\t\tfor(int i=0; i<n_nodes; i++)\n",
        "\t\t{\n",
        "\t\t\t//If an unvisited Edge exists\n",
        "\t\t\tif(adj_matrix[cur_node][i]>0 && visited[i]==false)\n",
        "\t\t\t{\n",
        "\n",
        "\t\t\t\t//Replace the weight if it is larger\n",
        "        if(weight[i] > adj_matrix[cur_node][i]){\n",
        "            weight[i] = adj_matrix[cur_node][i];\n",
        "        }\n",
        "\n",
        "\t\t\t\t//Push the destination of the smallest edge onto the queue\n",
        "\t\t\t\tq.push_back(i);\n",
        "\t\t\t\tvisited[i]=true;\n",
        "\t\t\t}\n",
        "\t\t}\n",
        "\t\n",
        "\t//Call the function recursively\n",
        "\tbfs(adj_matrix);\n",
        "}\n",
        "\n",
        "int main(){\n",
        "\t\n",
        "\t//Get the maximum number of threads\n",
        "  int th = omp_get_max_threads();\n",
        "  cout<<\"Number of Threads = \"<<th<<endl;\n",
        "\n",
        "\t//Set the Adjacency Matrix\n",
        "\tint adj_matrix[n_nodes][n_nodes] = {\n",
        "\t\t\t\t\t\t\t{0\t,10\t,15\t,0\t,0\t,20\t},\n",
        "\t\t\t\t\t\t\t{10\t,0\t,25\t,0\t,0\t,10\t},\n",
        "\t\t\t\t\t\t\t{15\t,25\t,0\t,30\t,0\t,5\t},\n",
        "\t\t\t\t\t\t\t{0\t,0\t,30\t,0\t,25\t,0\t},\n",
        "\t\t\t\t\t\t\t{0\t,0\t,0\t,25\t,0\t,20\t},\n",
        "\t\t\t\t\t\t\t{20\t,10\t,5\t,0\t,20\t,0\t}\n",
        "\t\t\t\t\t\t\t};\n",
        "\t\n",
        "\t//Initialize visited boolean array\n",
        "\tfor(int i=0; i<n_nodes; i++){\n",
        "\t\tvisited[i] = false;\n",
        "\t}\n",
        "\n",
        "\t//Set the start node\n",
        "\tint start_node = 0;\n",
        "\n",
        "\t//Set up the queue, weight and visited\n",
        "\tq.push_back(start_node);\n",
        "    weight[start_node] = 0;\n",
        "\tvisited[start_node] = true;\n",
        "\t\n",
        "\t//Best first Search\n",
        "\tbfs(adj_matrix);\n",
        "\n",
        "\treturn 0;\n",
        "}"
      ],
      "execution_count": null,
      "outputs": [
        {
          "output_type": "stream",
          "text": [
            "Overwriting bfs.cpp\n"
          ],
          "name": "stdout"
        }
      ]
    },
    {
      "cell_type": "code",
      "metadata": {
        "id": "YHMnMHzzYqfv",
        "colab": {
          "base_uri": "https://localhost:8080/",
          "height": 51
        },
        "outputId": "b616d157-b6fa-4508-dbd5-aeed0efed618"
      },
      "source": [
        "!g++ -fopenmp bfs.cpp\n",
        "!./a.out"
      ],
      "execution_count": null,
      "outputs": [
        {
          "output_type": "stream",
          "text": [
            "Number of Threads = 2\n",
            "0, 1, 2, 5, 4, 3, "
          ],
          "name": "stdout"
        }
      ]
    }
  ]
}